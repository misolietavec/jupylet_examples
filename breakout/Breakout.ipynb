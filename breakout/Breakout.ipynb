{
 "cells": [
  {
   "cell_type": "code",
   "execution_count": null,
   "id": "035bc806-9430-4e70-b8f5-cf86b8c39c5f",
   "metadata": {},
   "outputs": [],
   "source": [
    "from jupylet.app import App\n",
    "from jupylet.sprite import Sprite\n",
    "from jupylet.label import Label\n",
    "from random import randint, choice"
   ]
  },
  {
   "cell_type": "code",
   "execution_count": null,
   "id": "dc38259d-36ea-405f-b0f2-fc7d6548b070",
   "metadata": {},
   "outputs": [],
   "source": [
    "WIDTH = 800\n",
    "HEIGHT = 450\n",
    "b_colors = (\"red\", \"blue\", \"yellow\", \"green\", \"magenta\")"
   ]
  },
  {
   "cell_type": "code",
   "execution_count": null,
   "id": "36a4b8ca-7dad-4eea-9121-4f3e5a608a42",
   "metadata": {},
   "outputs": [],
   "source": [
    "app = App(WIDTH, HEIGHT, resource_dir='images')\n",
    "app.window.cursor = False\n",
    "app.window.clear(red=0.8, green=0.8, blue=0.8)"
   ]
  },
  {
   "cell_type": "code",
   "execution_count": null,
   "id": "9ee04a6f-b2ee-4971-a09b-03bdc20790e9",
   "metadata": {},
   "outputs": [],
   "source": [
    "global bricks\n",
    "\n",
    "def make_bricks():\n",
    "    global bricks\n",
    "    bricks = []\n",
    "    x_pos, x_step, y_step = 60, 2 * 340 / 9, 30\n",
    "    for row in range(10):\n",
    "        y_pos = 225 + 180\n",
    "        for col in range(4):\n",
    "            brick = Sprite(f\"{choice(b_colors)}.png\", x = x_pos, y = y_pos, scale = 0.15)\n",
    "            bricks.append(brick)\n",
    "            y_pos -= y_step\n",
    "        x_pos += x_step\n",
    "        \n",
    "\n",
    "def draw_bricks():\n",
    "    global bricks\n",
    "    for brick in bricks:\n",
    "        brick.draw()        "
   ]
  },
  {
   "cell_type": "code",
   "execution_count": null,
   "id": "695458cf-4c80-4bd0-aa62-6ab396db0080",
   "metadata": {},
   "outputs": [],
   "source": [
    "# setup\n",
    "ball = Sprite('ball.png', scale=0.1)\n",
    "paddle = Sprite('paddle.png', scale=0.2)\n",
    "message = Label(text='Game is running!', color='#000000', font_size=18, anchor_x='center')\n",
    "\n",
    "\n",
    "def setup():\n",
    "    ball.x, ball.y = WIDTH / 2, 35\n",
    "    ball.dx, ball.dy = 2.5, 4 + randint (-1, 2)\n",
    "    ball.active = True\n",
    "    message.text = 'Game is running!'\n",
    "    message.x, message.y = WIDTH - 80, 50\n",
    "    paddle.x, paddle.y = WIDTH / 2, 10\n",
    "    make_bricks()\n",
    "    paddle.draw()\n",
    "    ball.draw()\n",
    "    draw_bricks()\n",
    "    message.draw()"
   ]
  },
  {
   "cell_type": "code",
   "execution_count": null,
   "id": "e4eb856f-a247-4020-8de4-1b86c2b6e5c7",
   "metadata": {},
   "outputs": [],
   "source": [
    "# update\n",
    "def ball_collide_bricks():\n",
    "    for brick in bricks:\n",
    "        if len(ball.collisions_with(brick)) > 0:\n",
    "            return brick\n",
    "    return []\n",
    "\n",
    "\n",
    "@app.run_me_every(1 / 60)\n",
    "def update_ball(ct, dt):\n",
    "    if not ball.active: \n",
    "        return\n",
    "    ball.x += ball.dx\n",
    "    ball.y += ball.dy\n",
    "    if ball.left < 0 or ball.right > WIDTH: \n",
    "        ball.dx = -ball.dx\n",
    "    if ball.top > HEIGHT:\n",
    "        ball.dy = -ball.dy\n",
    "        \n",
    "    hit_brick = ball_collide_bricks()\n",
    "    if hit_brick:\n",
    "        bricks.remove(hit_brick)\n",
    "        ball.dy = -ball.dy\n",
    "    if ball.collisions_with(paddle).size > 0:\n",
    "        ball.dy = -ball.dy\n",
    "    ball.active = not ((ball.bottom < 0) or (len(bricks) == 0))\n",
    "    if not ball.active:\n",
    "        result = \"You WON\" if len(bricks) == 0 else \"You LOST\"\n",
    "        message.text = f'{result}\\nPress P - new game\\nPress Q - quit'\n",
    "        message.x, message.y = WIDTH / 2, HEIGHT / 2\n",
    "        message.align = 'center'"
   ]
  },
  {
   "cell_type": "code",
   "execution_count": null,
   "id": "3a972330-9565-49e2-b2c7-f581c64ed761",
   "metadata": {},
   "outputs": [],
   "source": [
    "@app.event\n",
    "def mouse_position_event(x, y, dx, dy):\n",
    "    px = max(40, x) if x < WIDTH - 40 else WIDTH - 40\n",
    "    paddle.x = px"
   ]
  },
  {
   "cell_type": "code",
   "execution_count": null,
   "id": "902bcfcd-eab5-4506-bba2-a747fd37bdd3",
   "metadata": {},
   "outputs": [],
   "source": [
    "@app.event\n",
    "def render(ct, dt):\n",
    "    app.window.clear(red=0.8, green=0.8, blue=0.8)\n",
    "    message.draw()\n",
    "    if ball.active:\n",
    "        ball.draw()\n",
    "        paddle.draw()\n",
    "        draw_bricks()"
   ]
  },
  {
   "cell_type": "code",
   "execution_count": null,
   "id": "cfc02698-07be-4f4e-ac68-a694b094023b",
   "metadata": {},
   "outputs": [],
   "source": [
    "@app.event\n",
    "def key_event(key, action, modifiers):\n",
    "    keys = app.window.keys\n",
    "    if action  == keys.ACTION_PRESS:\n",
    "        if key == keys.P:\n",
    "            setup()\n",
    "        if key == keys.Q:\n",
    "            app.close()"
   ]
  },
  {
   "cell_type": "code",
   "execution_count": null,
   "id": "ddf3d69b-1eae-4dfe-83d4-7616e23b1fa4",
   "metadata": {},
   "outputs": [],
   "source": [
    "setup()\n",
    "app.run()"
   ]
  }
 ],
 "metadata": {
  "kernelspec": {
   "display_name": "Python 3.11 (jupylet)",
   "language": "python",
   "name": "jupylet"
  },
  "language_info": {
   "codemirror_mode": {
    "name": "ipython",
    "version": 3
   },
   "file_extension": ".py",
   "mimetype": "text/x-python",
   "name": "python",
   "nbconvert_exporter": "python",
   "pygments_lexer": "ipython3",
   "version": "3.11.6"
  }
 },
 "nbformat": 4,
 "nbformat_minor": 5
}
