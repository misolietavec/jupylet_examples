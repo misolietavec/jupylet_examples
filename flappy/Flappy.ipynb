{
 "cells": [
  {
   "cell_type": "code",
   "execution_count": null,
   "id": "dd1e7ad5-3974-40e0-872d-0ceb76f1f614",
   "metadata": {},
   "outputs": [],
   "source": [
    "from jupylet.sprite import Sprite\n",
    "from jupylet.app import App\n",
    "from jupylet.label import Label\n",
    "from random import randint"
   ]
  },
  {
   "cell_type": "code",
   "execution_count": null,
   "id": "d32cea0c-a05f-4c73-99ae-b1d177524920",
   "metadata": {},
   "outputs": [],
   "source": [
    "WIDTH =  400\n",
    "HEIGHT = 600\n",
    "GAP = 150\n",
    "GRAVITY = 0.2\n",
    "FLAP_STRENGTH = 5\n",
    "SPEED = 2"
   ]
  },
  {
   "cell_type": "code",
   "execution_count": null,
   "id": "3762cd75-82f8-41f8-b2f5-bc4ae04dd8b7",
   "metadata": {},
   "outputs": [],
   "source": [
    "app = App(width=WIDTH, height=HEIGHT, resource_dir='images')"
   ]
  },
  {
   "cell_type": "code",
   "execution_count": null,
   "id": "fe42b8c3-f303-409d-a906-3d949438f6ce",
   "metadata": {},
   "outputs": [],
   "source": [
    "bird = Sprite('flappy1.png', scale=0.1)\n",
    "birds = ['flappy1.png', 'flappy2.png']\n",
    "msg = Label(text='Game is running!', color='#000000', font_size=18, \n",
    "            anchor_x='center', align='center', line_height=1.3)\n",
    "background = Sprite('background.png', scale=1.12, anchor_y='bottom',anchor_x='left')"
   ]
  },
  {
   "cell_type": "code",
   "execution_count": null,
   "id": "6ac6d16d-c58c-46c6-8a77-c52b7f52124d",
   "metadata": {},
   "outputs": [],
   "source": [
    "def reset_bird():\n",
    "    bird.x, bird.y = WIDTH / 2, 260\n",
    "    bird.count = bird.imgnum = 0\n",
    "    bird.dead = False\n",
    "    bird.score = bird.vy = 0\n",
    "    bird.color = 'white'"
   ]
  },
  {
   "cell_type": "code",
   "execution_count": null,
   "id": "d6c407b2-8dd4-42af-acc3-e9c4e9844e52",
   "metadata": {},
   "outputs": [],
   "source": [
    "pipe_bot = Sprite('pipe-green.png', anchor_y='top')\n",
    "pipe_top = Sprite('pipe-green.png', flip=False, anchor_y='bottom')"
   ]
  },
  {
   "cell_type": "code",
   "execution_count": null,
   "id": "1f3ac4c6-2656-4565-938e-741467eabf83",
   "metadata": {},
   "outputs": [],
   "source": [
    "def reset_pipes():\n",
    "    by = randint(200, 300)\n",
    "    pipe_bot.x = pipe_top.x = WIDTH\n",
    "    pipe_bot.y = by\n",
    "    pipe_top.y = by + GAP\n",
    "    pipe_bot.scale = pipe_top.scale = 1.2"
   ]
  },
  {
   "cell_type": "code",
   "execution_count": null,
   "id": "79e76a86-10af-4a4a-a4ee-92af651a200f",
   "metadata": {},
   "outputs": [],
   "source": [
    "def setup():\n",
    "    reset_bird()\n",
    "    reset_pipes()\n",
    "    msg.x, msg.y = WIDTH - 75, 25\n",
    "    msg.text = 'Game is running!'"
   ]
  },
  {
   "cell_type": "code",
   "execution_count": null,
   "id": "40a7099e-84ac-4f60-adb7-6a4c690157f0",
   "metadata": {},
   "outputs": [],
   "source": [
    "def bird_collides():\n",
    "    if len(bird.collisions_with(pipe_bot)) or len(bird.collisions_with(pipe_top)):\n",
    "        return True\n",
    "    return False    "
   ]
  },
  {
   "cell_type": "code",
   "execution_count": null,
   "id": "29362712-8651-45d2-9c3d-b6e2137a287e",
   "metadata": {},
   "outputs": [],
   "source": [
    "@app.event\n",
    "def key_event(key, action, modifiers):\n",
    "    keys = app.window.keys\n",
    "    if action  == keys.ACTION_PRESS:\n",
    "        if key == keys.P:\n",
    "            if not bird.dead:\n",
    "                bird.vy = -FLAP_STRENGTH\n",
    "        if key == keys.N:\n",
    "            setup()\n",
    "        if key == keys.Q:\n",
    "            app.close()"
   ]
  },
  {
   "cell_type": "code",
   "execution_count": null,
   "id": "5c16a781-b45b-47ad-9691-b2f859de2387",
   "metadata": {},
   "outputs": [],
   "source": [
    "@app.event\n",
    "def render(ct, dt):\n",
    "    app.window.clear(red=0.8, green=0.8, blue=0.8)\n",
    "    background.draw()\n",
    "    pipe_top.draw()\n",
    "    pipe_bot.draw()\n",
    "    bird.draw()\n",
    "    msg.draw()"
   ]
  },
  {
   "cell_type": "code",
   "execution_count": null,
   "id": "bb0f8993-af6f-4e8a-ae02-aba63b6796a5",
   "metadata": {},
   "outputs": [],
   "source": [
    "@app.run_me_every(1 / 60)\n",
    "def update(ct, dt):\n",
    "    if bird_collides() or bird.bottom <= 0:\n",
    "        bird.dead = True\n",
    "        bird.color = 'red'\n",
    "        msg.text = f'Score: {bird.score}\\nNew game - N\\nQuit - Q'\n",
    "        return\n",
    "    pipe_bot.x -= SPEED\n",
    "    pipe_top.x = pipe_bot.x\n",
    "    if pipe_bot.x <= 0:\n",
    "        reset_pipes()\n",
    "        if not bird.dead:\n",
    "            bird.score += 1\n",
    "    bird.count = (bird.count + 1) % 10\n",
    "    if not bird.count:\n",
    "        bird.imgnum = int(not bird.imgnum)\n",
    "        bird.image = birds[bird.imgnum]\n",
    "        bird.scale = 0.1\n",
    "    uy = bird.vy\n",
    "    bird.vy += GRAVITY\n",
    "    bird.y -= (uy + bird.vy) / 2    "
   ]
  },
  {
   "cell_type": "code",
   "execution_count": null,
   "id": "1ca95e55-c452-4dc4-9aac-8d647023c533",
   "metadata": {},
   "outputs": [],
   "source": [
    "setup()\n",
    "app.run()"
   ]
  }
 ],
 "metadata": {
  "kernelspec": {
   "display_name": "Python 3 (ipykernel)",
   "language": "python",
   "name": "python3"
  },
  "language_info": {
   "codemirror_mode": {
    "name": "ipython",
    "version": 3
   },
   "file_extension": ".py",
   "mimetype": "text/x-python",
   "name": "python",
   "nbconvert_exporter": "python",
   "pygments_lexer": "ipython3",
   "version": "3.11.6"
  }
 },
 "nbformat": 4,
 "nbformat_minor": 5
}
