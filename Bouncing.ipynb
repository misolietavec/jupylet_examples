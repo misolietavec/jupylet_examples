{
 "cells": [
  {
   "cell_type": "code",
   "execution_count": null,
   "id": "49ef8fbd-96f3-4095-9957-d64a6317410f",
   "metadata": {},
   "outputs": [],
   "source": [
    "from jupylet.sprite import Sprite\n",
    "from jupylet.app import App"
   ]
  },
  {
   "cell_type": "code",
   "execution_count": null,
   "id": "0e6e0e39-6de9-4fb7-85bc-1536b20ac033",
   "metadata": {},
   "outputs": [],
   "source": [
    "WIDTH = 640\n",
    "HEIGHT = 480\n",
    "ASSETS = 'assets'"
   ]
  },
  {
   "cell_type": "code",
   "execution_count": null,
   "id": "50d43248-2ebb-4476-920f-5495938cc6c5",
   "metadata": {},
   "outputs": [],
   "source": [
    "app = App(WIDTH, HEIGHT, resource_dir=ASSETS)\n",
    "app.window.cursor = False\n",
    "\n",
    "class Ball(Sprite):\n",
    "    def __init__(self, *args, **kwargs):\n",
    "        super().__init__('images/ball.png',  *args, **kwargs)\n",
    "        self.vx = 5\n",
    "        self.vy = 6\n",
    "        self.stopped = False\n",
    "\n",
    "ball = Ball(x=WIDTH / 3, y=HEIGHT / 4, scale=0.15)"
   ]
  },
  {
   "cell_type": "code",
   "execution_count": null,
   "id": "8927f243-c076-401c-98c6-e4186e220f16",
   "metadata": {},
   "outputs": [],
   "source": [
    "@app.run_me_every(1 / 60)\n",
    "def update_ball(ct, dt):\n",
    "    if ball.stopped:\n",
    "        return\n",
    "    ball.x += ball.vx\n",
    "    ball.y += ball.vy\n",
    "    if (ball.right >= WIDTH or ball.left <= 0):\n",
    "        ball.vx = -ball.vx\n",
    "    \n",
    "    if (ball.top >= HEIGHT or ball.bottom <= 0):\n",
    "        ball.vy = -ball.vy\n",
    "\n",
    "@app.event\n",
    "def render(ct, dt):\n",
    "    if not ball.stopped:\n",
    "        app.window.clear(red=0.8, green=0.8, blue=0.8)\n",
    "        ball.draw()"
   ]
  },
  {
   "cell_type": "code",
   "execution_count": null,
   "id": "10af5d05-7e04-40f9-98fe-4714faff855a",
   "metadata": {},
   "outputs": [],
   "source": [
    "@app.event\n",
    "def key_event(key, action, modifiers):\n",
    "    keys = app.window.keys\n",
    "    if action  == keys.ACTION_PRESS:\n",
    "        if key == keys.P:\n",
    "            ball.stopped = not ball.stopped\n",
    "        if key == keys.Q:\n",
    "            app.close()"
   ]
  },
  {
   "cell_type": "code",
   "execution_count": null,
   "id": "2e2f0dd5-a443-4e1e-b583-743f316c231d",
   "metadata": {},
   "outputs": [],
   "source": [
    "app.run()"
   ]
  }
 ],
 "metadata": {
  "kernelspec": {
   "display_name": "Python 3.11 (jupylet)",
   "language": "python",
   "name": "jupylet"
  },
  "language_info": {
   "codemirror_mode": {
    "name": "ipython",
    "version": 3
   },
   "file_extension": ".py",
   "mimetype": "text/x-python",
   "name": "python",
   "nbconvert_exporter": "python",
   "pygments_lexer": "ipython3",
   "version": "3.11.6"
  }
 },
 "nbformat": 4,
 "nbformat_minor": 5
}
